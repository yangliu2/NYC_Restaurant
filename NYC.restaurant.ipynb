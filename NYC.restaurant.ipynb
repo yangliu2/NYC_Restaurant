{
 "cells": [
  {
   "cell_type": "markdown",
   "metadata": {},
   "source": [
    "# NYC Restaurant"
   ]
  },
  {
   "cell_type": "markdown",
   "metadata": {},
   "source": [
    "People need ot eat. As a Chinese American, my social life revolve around a place to eat. But since I have genetic predisposition for diabeties and high blood pressure, I also need to find a safe place to eat. So I looked up NYC Restaurant health inspection data to find good places to eat."
   ]
  },
  {
   "cell_type": "markdown",
   "metadata": {},
   "source": [
    "So first I got the data from \"https://data.cityofnewyork.us/Health/DOHMH-New-York-City-Restaurant-Inspection-Results/xx67-kt59\""
   ]
  },
  {
   "cell_type": "markdown",
   "metadata": {},
   "source": [
    "And then I imported the data into Python to play with. "
   ]
  },
  {
   "cell_type": "code",
   "execution_count": 2,
   "metadata": {
    "collapsed": false
   },
   "outputs": [
    {
     "name": "stderr",
     "output_type": "stream",
     "text": [
      "C:\\Anaconda2\\lib\\site-packages\\IPython\\core\\interactiveshell.py:2902: DtypeWarning: Columns (6) have mixed types. Specify dtype option on import or set low_memory=False.\n",
      "  interactivity=interactivity, compiler=compiler, result=result)\n"
     ]
    }
   ],
   "source": [
    "import pandas as pd\n",
    "data = pd.read_csv('NYC_Restaurant_inspection.csv')"
   ]
  },
  {
   "cell_type": "code",
   "execution_count": 5,
   "metadata": {
    "collapsed": false
   },
   "outputs": [
    {
     "data": {
      "text/html": [
       "<div>\n",
       "<table border=\"1\" class=\"dataframe\">\n",
       "  <thead>\n",
       "    <tr style=\"text-align: right;\">\n",
       "      <th></th>\n",
       "      <th>CAMIS</th>\n",
       "      <th>DBA</th>\n",
       "      <th>BORO</th>\n",
       "      <th>BUILDING</th>\n",
       "      <th>STREET</th>\n",
       "      <th>ZIPCODE</th>\n",
       "      <th>PHONE</th>\n",
       "      <th>CUISINE DESCRIPTION</th>\n",
       "      <th>INSPECTION DATE</th>\n",
       "      <th>ACTION</th>\n",
       "      <th>VIOLATION CODE</th>\n",
       "      <th>VIOLATION DESCRIPTION</th>\n",
       "      <th>CRITICAL FLAG</th>\n",
       "      <th>SCORE</th>\n",
       "      <th>GRADE</th>\n",
       "      <th>GRADE DATE</th>\n",
       "      <th>RECORD DATE</th>\n",
       "      <th>INSPECTION TYPE</th>\n",
       "    </tr>\n",
       "  </thead>\n",
       "  <tbody>\n",
       "    <tr>\n",
       "      <th>0</th>\n",
       "      <td>30075445</td>\n",
       "      <td>MORRIS PARK BAKE SHOP</td>\n",
       "      <td>BRONX</td>\n",
       "      <td>1007</td>\n",
       "      <td>MORRIS PARK AVE</td>\n",
       "      <td>10462</td>\n",
       "      <td>7188924968</td>\n",
       "      <td>Bakery</td>\n",
       "      <td>02/18/2016</td>\n",
       "      <td>Violations were cited in the following area(s).</td>\n",
       "      <td>04L</td>\n",
       "      <td>Evidence of mice or live mice present in facil...</td>\n",
       "      <td>Critical</td>\n",
       "      <td>10</td>\n",
       "      <td>A</td>\n",
       "      <td>02/18/2016</td>\n",
       "      <td>03/02/2016</td>\n",
       "      <td>Cycle Inspection / Initial Inspection</td>\n",
       "    </tr>\n",
       "    <tr>\n",
       "      <th>...</th>\n",
       "      <td>...</td>\n",
       "      <td>...</td>\n",
       "      <td>...</td>\n",
       "      <td>...</td>\n",
       "      <td>...</td>\n",
       "      <td>...</td>\n",
       "      <td>...</td>\n",
       "      <td>...</td>\n",
       "      <td>...</td>\n",
       "      <td>...</td>\n",
       "      <td>...</td>\n",
       "      <td>...</td>\n",
       "      <td>...</td>\n",
       "      <td>...</td>\n",
       "      <td>...</td>\n",
       "      <td>...</td>\n",
       "      <td>...</td>\n",
       "      <td>...</td>\n",
       "    </tr>\n",
       "    <tr>\n",
       "      <th>475499</th>\n",
       "      <td>50046929</td>\n",
       "      <td>NaN</td>\n",
       "      <td>QUEENS</td>\n",
       "      <td>16846</td>\n",
       "      <td>91ST AVE</td>\n",
       "      <td>11432</td>\n",
       "      <td>3477205009</td>\n",
       "      <td>Other</td>\n",
       "      <td>01/01/1900</td>\n",
       "      <td>NaN</td>\n",
       "      <td>NaN</td>\n",
       "      <td>NaN</td>\n",
       "      <td>Not Applicable</td>\n",
       "      <td>NaN</td>\n",
       "      <td>NaN</td>\n",
       "      <td>NaN</td>\n",
       "      <td>03/02/2016</td>\n",
       "      <td>NaN</td>\n",
       "    </tr>\n",
       "  </tbody>\n",
       "</table>\n",
       "<p>475500 rows × 18 columns</p>\n",
       "</div>"
      ],
      "text/plain": [
       "           CAMIS                    DBA    BORO BUILDING           STREET  \\\n",
       "0       30075445  MORRIS PARK BAKE SHOP   BRONX     1007  MORRIS PARK AVE   \n",
       "...          ...                    ...     ...      ...              ...   \n",
       "475499  50046929                    NaN  QUEENS    16846         91ST AVE   \n",
       "\n",
       "        ZIPCODE       PHONE CUISINE DESCRIPTION INSPECTION DATE  \\\n",
       "0         10462  7188924968              Bakery      02/18/2016   \n",
       "...         ...         ...                 ...             ...   \n",
       "475499    11432  3477205009               Other      01/01/1900   \n",
       "\n",
       "                                                 ACTION VIOLATION CODE  \\\n",
       "0       Violations were cited in the following area(s).            04L   \n",
       "...                                                 ...            ...   \n",
       "475499                                              NaN            NaN   \n",
       "\n",
       "                                    VIOLATION DESCRIPTION   CRITICAL FLAG  \\\n",
       "0       Evidence of mice or live mice present in facil...        Critical   \n",
       "...                                                   ...             ...   \n",
       "475499                                                NaN  Not Applicable   \n",
       "\n",
       "        SCORE GRADE  GRADE DATE RECORD DATE  \\\n",
       "0          10     A  02/18/2016  03/02/2016   \n",
       "...       ...   ...         ...         ...   \n",
       "475499    NaN   NaN         NaN  03/02/2016   \n",
       "\n",
       "                              INSPECTION TYPE  \n",
       "0       Cycle Inspection / Initial Inspection  \n",
       "...                                       ...  \n",
       "475499                                    NaN  \n",
       "\n",
       "[475500 rows x 18 columns]"
      ]
     },
     "execution_count": 5,
     "metadata": {},
     "output_type": "execute_result"
    }
   ],
   "source": [
    "pd.options.display.max_rows = 2\n",
    "data"
   ]
  },
  {
   "cell_type": "code",
   "execution_count": 8,
   "metadata": {
    "collapsed": false
   },
   "outputs": [
    {
     "data": {
      "text/plain": [
       "0         7188924968\n",
       "             ...    \n",
       "475499    3477205009\n",
       "Name: PHONE, dtype: object"
      ]
     },
     "execution_count": 8,
     "metadata": {},
     "output_type": "execute_result"
    }
   ],
   "source": [
    "data['PHONE']"
   ]
  },
  {
   "cell_type": "markdown",
   "metadata": {},
   "source": [
    "Checked column 6 or PHONE, need to convert into numbers"
   ]
  },
  {
   "cell_type": "markdown",
   "metadata": {},
   "source": [
    "I live in ZIPCODE 10025, so I need to find a restaurants near me. I also only selected Grade A by the health inspection. You can relax this to a B. I also only looked Chinese restaurants, but you can choose any cuisine."
   ]
  },
  {
   "cell_type": "code",
   "execution_count": 53,
   "metadata": {
    "collapsed": false
   },
   "outputs": [],
   "source": [
    "# make a set for unique names\n",
    "name = set()\n",
    "\n",
    "for key, value in enumerate(data['ZIPCODE']):\n",
    "    if value == 10025 and data['CUISINE DESCRIPTION'][key] == \"Chinese\" and data['GRADE'][key] == 'A':\n",
    "        name.add(data['DBA'][key])"
   ]
  },
  {
   "cell_type": "code",
   "execution_count": 54,
   "metadata": {
    "collapsed": false
   },
   "outputs": [
    {
     "name": "stdout",
     "output_type": "stream",
     "text": [
      "HUNAN PARK\n",
      "HUNAN CHEN'S KITCHEN\n",
      "NEW KAM LAI RESTAURANT\n",
      "NEW KAM LAI\n",
      "PEARLS\n",
      "A NEW SAIGON VIETNAMESE CUISINE\n",
      "BENNY'S LUNG SHENG RESTAURANT\n",
      "SZECHUAN GARDEN\n",
      "XIAN FAMOUS FOODS\n",
      "ZHONG WAH CHINESE RESTAURANT\n",
      "CONCORD GARDEN RESTAURANT\n",
      "LEGEND UPPER WEST\n",
      "EMPIRE GARDEN\n"
     ]
    }
   ],
   "source": [
    "for i in name:\n",
    "    print i"
   ]
  },
  {
   "cell_type": "markdown",
   "metadata": {},
   "source": [
    "So how do I know if these restaurants are any good? I could search Yelp. But I'm going to look at how old these places are. The longer they are open, the more likely this will be good, right? To find the year it is first opened, look for the year with 'prepermit' in the inspection type column"
   ]
  },
  {
   "cell_type": "code",
   "execution_count": 116,
   "metadata": {
    "collapsed": false
   },
   "outputs": [],
   "source": [
    "# need to use a list instead of a set, and count the number of duplicates in the list\n",
    "name_list = set()\n",
    "\n",
    "for key, value in enumerate(data['ZIPCODE']):\n",
    "    if value == 10025 and data['CUISINE DESCRIPTION'][key] == \"Chinese\" and data['INSPECTION TYPE'][key].startswith('Pre-permit'):\n",
    "        if not pd.isnull(data['GRADE DATE'][key]):\n",
    "            name_list.add(data['DBA'][key] +\" \"+ str(data['GRADE DATE'][key]))"
   ]
  },
  {
   "cell_type": "code",
   "execution_count": 117,
   "metadata": {
    "collapsed": false
   },
   "outputs": [
    {
     "name": "stdout",
     "output_type": "stream",
     "text": [
      "LEGEND UPPER WEST 03/07/2013\n",
      "BENNY'S LUNG SHENG RESTAURANT 03/17/2014\n",
      "EMPIRE GARDEN 10/02/2014\n",
      "HUNAN CHEN'S KITCHEN 07/14/2014\n",
      "A NEW SAIGON VIETNAMESE CUISINE 07/01/2014\n",
      "SZECHUAN GARDEN 12/10/2013\n",
      "ZHONG WAH CHINESE RESTAURANT 03/13/2013\n",
      "NEW KAM LAI 02/18/2014\n",
      "HUNAN PARK 11/27/2015\n",
      "HUNAN CHEN'S KITCHEN 05/30/2014\n",
      "NEW KAM LAI RESTAURANT 06/11/2013\n",
      "CONCORD GARDEN RESTAURANT 02/19/2013\n"
     ]
    }
   ],
   "source": [
    "for i in name_list:\n",
    "    print i"
   ]
  },
  {
   "cell_type": "code",
   "execution_count": 112,
   "metadata": {
    "collapsed": false
   },
   "outputs": [
    {
     "data": {
      "text/plain": [
       "True"
      ]
     },
     "execution_count": 112,
     "metadata": {},
     "output_type": "execute_result"
    }
   ],
   "source": []
  },
  {
   "cell_type": "code",
   "execution_count": null,
   "metadata": {
    "collapsed": true
   },
   "outputs": [],
   "source": []
  }
 ],
 "metadata": {
  "kernelspec": {
   "display_name": "Python 2",
   "language": "python",
   "name": "python2"
  },
  "language_info": {
   "codemirror_mode": {
    "name": "ipython",
    "version": 2
   },
   "file_extension": ".py",
   "mimetype": "text/x-python",
   "name": "python",
   "nbconvert_exporter": "python",
   "pygments_lexer": "ipython2",
   "version": "2.7.11"
  }
 },
 "nbformat": 4,
 "nbformat_minor": 0
}
